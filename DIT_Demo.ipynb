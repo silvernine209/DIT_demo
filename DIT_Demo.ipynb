{
  "nbformat": 4,
  "nbformat_minor": 0,
  "metadata": {
    "kernelspec": {
      "display_name": "Python 3",
      "language": "python",
      "name": "python3"
    },
    "language_info": {
      "codemirror_mode": {
        "name": "ipython",
        "version": 3
      },
      "file_extension": ".py",
      "mimetype": "text/x-python",
      "name": "python",
      "nbconvert_exporter": "python",
      "pygments_lexer": "ipython3",
      "version": "3.7.4"
    },
    "toc": {
      "base_numbering": 1,
      "nav_menu": {},
      "number_sections": true,
      "sideBar": true,
      "skip_h1_title": false,
      "title_cell": "Table of Contents",
      "title_sidebar": "Contents",
      "toc_cell": false,
      "toc_position": {},
      "toc_section_display": true,
      "toc_window_display": false
    },
    "colab": {
      "name": "DIT Demo.ipynb",
      "provenance": [],
      "collapsed_sections": [
        "0JHUuogPijyb",
        "lJ7Aw2wDG2bF"
      ]
    }
  },
  "cells": [
    {
      "cell_type": "markdown",
      "metadata": {
        "id": "0JHUuogPijyb",
        "colab_type": "text"
      },
      "source": [
        "### Prepare for TimeSliderChoropleth"
      ]
    },
    {
      "cell_type": "code",
      "metadata": {
        "id": "2kPiGySqZ0Ms",
        "colab_type": "code",
        "colab": {
          "base_uri": "https://localhost:8080/",
          "height": 370
        },
        "outputId": "f78d7784-9c07-4b4b-f23f-f1893aa5360f"
      },
      "source": [
        "import branca.colormap as cm\n",
        "# take log of import values in mil?bil? so that they are comparable between different sizes of countries' imports\n",
        "gdf_commodity1['log_value'] = np.log10(gdf_commodity1['value']+1)\n",
        "max_colour = max(gdf_commodity1['log_value'])\n",
        "min_colour = min(gdf_commodity1['log_value'])\n",
        "#cmap = cm.linear.YlOrRd_09.scale(min_colour, max_colour)\n",
        "cmap = cm.linear.Reds_09.scale(min_colour, max_colour)\n",
        "gdf_commodity1['colour'] = gdf_commodity1['log_value'].map(cmap)"
      ],
      "execution_count": null,
      "outputs": [
        {
          "output_type": "error",
          "ename": "ValueError",
          "evalue": "ignored",
          "traceback": [
            "\u001b[0;31m---------------------------------------------------------------------------\u001b[0m",
            "\u001b[0;31mValueError\u001b[0m                                Traceback (most recent call last)",
            "\u001b[0;32m<ipython-input-12-b35cb9281538>\u001b[0m in \u001b[0;36m<module>\u001b[0;34m()\u001b[0m\n\u001b[1;32m      6\u001b[0m \u001b[0;31m#cmap = cm.linear.YlOrRd_09.scale(min_colour, max_colour)\u001b[0m\u001b[0;34m\u001b[0m\u001b[0;34m\u001b[0m\u001b[0;34m\u001b[0m\u001b[0m\n\u001b[1;32m      7\u001b[0m \u001b[0mcmap\u001b[0m \u001b[0;34m=\u001b[0m \u001b[0mcm\u001b[0m\u001b[0;34m.\u001b[0m\u001b[0mlinear\u001b[0m\u001b[0;34m.\u001b[0m\u001b[0mReds_09\u001b[0m\u001b[0;34m.\u001b[0m\u001b[0mscale\u001b[0m\u001b[0;34m(\u001b[0m\u001b[0mmin_colour\u001b[0m\u001b[0;34m,\u001b[0m \u001b[0mmax_colour\u001b[0m\u001b[0;34m)\u001b[0m\u001b[0;34m\u001b[0m\u001b[0;34m\u001b[0m\u001b[0m\n\u001b[0;32m----> 8\u001b[0;31m \u001b[0mgdf_commodity1\u001b[0m\u001b[0;34m[\u001b[0m\u001b[0;34m'colour'\u001b[0m\u001b[0;34m]\u001b[0m \u001b[0;34m=\u001b[0m \u001b[0mgdf_commodity1\u001b[0m\u001b[0;34m[\u001b[0m\u001b[0;34m'log_value'\u001b[0m\u001b[0;34m]\u001b[0m\u001b[0;34m.\u001b[0m\u001b[0mmap\u001b[0m\u001b[0;34m(\u001b[0m\u001b[0mcmap\u001b[0m\u001b[0;34m)\u001b[0m\u001b[0;34m\u001b[0m\u001b[0;34m\u001b[0m\u001b[0m\n\u001b[0m",
            "\u001b[0;32m/usr/local/lib/python3.6/dist-packages/pandas/core/series.py\u001b[0m in \u001b[0;36mmap\u001b[0;34m(self, arg, na_action)\u001b[0m\n\u001b[1;32m   3628\u001b[0m         \u001b[0mdtype\u001b[0m\u001b[0;34m:\u001b[0m \u001b[0mobject\u001b[0m\u001b[0;34m\u001b[0m\u001b[0;34m\u001b[0m\u001b[0m\n\u001b[1;32m   3629\u001b[0m         \"\"\"\n\u001b[0;32m-> 3630\u001b[0;31m         \u001b[0mnew_values\u001b[0m \u001b[0;34m=\u001b[0m \u001b[0msuper\u001b[0m\u001b[0;34m(\u001b[0m\u001b[0;34m)\u001b[0m\u001b[0;34m.\u001b[0m\u001b[0m_map_values\u001b[0m\u001b[0;34m(\u001b[0m\u001b[0marg\u001b[0m\u001b[0;34m,\u001b[0m \u001b[0mna_action\u001b[0m\u001b[0;34m=\u001b[0m\u001b[0mna_action\u001b[0m\u001b[0;34m)\u001b[0m\u001b[0;34m\u001b[0m\u001b[0;34m\u001b[0m\u001b[0m\n\u001b[0m\u001b[1;32m   3631\u001b[0m         \u001b[0;32mreturn\u001b[0m \u001b[0mself\u001b[0m\u001b[0;34m.\u001b[0m\u001b[0m_constructor\u001b[0m\u001b[0;34m(\u001b[0m\u001b[0mnew_values\u001b[0m\u001b[0;34m,\u001b[0m \u001b[0mindex\u001b[0m\u001b[0;34m=\u001b[0m\u001b[0mself\u001b[0m\u001b[0;34m.\u001b[0m\u001b[0mindex\u001b[0m\u001b[0;34m)\u001b[0m\u001b[0;34m.\u001b[0m\u001b[0m__finalize__\u001b[0m\u001b[0;34m(\u001b[0m\u001b[0mself\u001b[0m\u001b[0;34m)\u001b[0m\u001b[0;34m\u001b[0m\u001b[0;34m\u001b[0m\u001b[0m\n\u001b[1;32m   3632\u001b[0m \u001b[0;34m\u001b[0m\u001b[0m\n",
            "\u001b[0;32m/usr/local/lib/python3.6/dist-packages/pandas/core/base.py\u001b[0m in \u001b[0;36m_map_values\u001b[0;34m(self, mapper, na_action)\u001b[0m\n\u001b[1;32m   1143\u001b[0m \u001b[0;34m\u001b[0m\u001b[0m\n\u001b[1;32m   1144\u001b[0m         \u001b[0;31m# mapper is a function\u001b[0m\u001b[0;34m\u001b[0m\u001b[0;34m\u001b[0m\u001b[0;34m\u001b[0m\u001b[0m\n\u001b[0;32m-> 1145\u001b[0;31m         \u001b[0mnew_values\u001b[0m \u001b[0;34m=\u001b[0m \u001b[0mmap_f\u001b[0m\u001b[0;34m(\u001b[0m\u001b[0mvalues\u001b[0m\u001b[0;34m,\u001b[0m \u001b[0mmapper\u001b[0m\u001b[0;34m)\u001b[0m\u001b[0;34m\u001b[0m\u001b[0;34m\u001b[0m\u001b[0m\n\u001b[0m\u001b[1;32m   1146\u001b[0m \u001b[0;34m\u001b[0m\u001b[0m\n\u001b[1;32m   1147\u001b[0m         \u001b[0;32mreturn\u001b[0m \u001b[0mnew_values\u001b[0m\u001b[0;34m\u001b[0m\u001b[0;34m\u001b[0m\u001b[0m\n",
            "\u001b[0;32mpandas/_libs/lib.pyx\u001b[0m in \u001b[0;36mpandas._libs.lib.map_infer\u001b[0;34m()\u001b[0m\n",
            "\u001b[0;32m/usr/local/lib/python3.6/dist-packages/branca/colormap.py\u001b[0m in \u001b[0;36m__call__\u001b[0;34m(self, x)\u001b[0m\n\u001b[1;32m    136\u001b[0m         \u001b[0mform\u001b[0m \u001b[0mof\u001b[0m \u001b[0ma\u001b[0m \u001b[0mstring\u001b[0m \u001b[0mof\u001b[0m \u001b[0mhexadecimal\u001b[0m \u001b[0mvalues\u001b[0m \u001b[0;34m\"#RRGGBBAA\"\u001b[0m\u001b[0;34m.\u001b[0m\u001b[0;34m\u001b[0m\u001b[0;34m\u001b[0m\u001b[0m\n\u001b[1;32m    137\u001b[0m         \"\"\"\n\u001b[0;32m--> 138\u001b[0;31m         \u001b[0;32mreturn\u001b[0m \u001b[0mself\u001b[0m\u001b[0;34m.\u001b[0m\u001b[0mrgba_hex_str\u001b[0m\u001b[0;34m(\u001b[0m\u001b[0mx\u001b[0m\u001b[0;34m)\u001b[0m\u001b[0;34m\u001b[0m\u001b[0;34m\u001b[0m\u001b[0m\n\u001b[0m\u001b[1;32m    139\u001b[0m \u001b[0;34m\u001b[0m\u001b[0m\n\u001b[1;32m    140\u001b[0m     \u001b[0;32mdef\u001b[0m \u001b[0m_repr_html_\u001b[0m\u001b[0;34m(\u001b[0m\u001b[0mself\u001b[0m\u001b[0;34m)\u001b[0m\u001b[0;34m:\u001b[0m\u001b[0;34m\u001b[0m\u001b[0;34m\u001b[0m\u001b[0m\n",
            "\u001b[0;32m/usr/local/lib/python3.6/dist-packages/branca/colormap.py\u001b[0m in \u001b[0;36mrgba_hex_str\u001b[0;34m(self, x)\u001b[0m\n\u001b[1;32m    130\u001b[0m         \u001b[0mform\u001b[0m \u001b[0mof\u001b[0m \u001b[0ma\u001b[0m \u001b[0mstring\u001b[0m \u001b[0mof\u001b[0m \u001b[0mhexadecimal\u001b[0m \u001b[0mvalues\u001b[0m \u001b[0;34m\"#RRGGBBAA\"\u001b[0m\u001b[0;34m.\u001b[0m\u001b[0;34m\u001b[0m\u001b[0;34m\u001b[0m\u001b[0m\n\u001b[1;32m    131\u001b[0m         \"\"\"\n\u001b[0;32m--> 132\u001b[0;31m         \u001b[0;32mreturn\u001b[0m \u001b[0;34m'#%02x%02x%02x%02x'\u001b[0m \u001b[0;34m%\u001b[0m \u001b[0mself\u001b[0m\u001b[0;34m.\u001b[0m\u001b[0mrgba_bytes_tuple\u001b[0m\u001b[0;34m(\u001b[0m\u001b[0mx\u001b[0m\u001b[0;34m)\u001b[0m\u001b[0;34m\u001b[0m\u001b[0;34m\u001b[0m\u001b[0m\n\u001b[0m\u001b[1;32m    133\u001b[0m \u001b[0;34m\u001b[0m\u001b[0m\n\u001b[1;32m    134\u001b[0m     \u001b[0;32mdef\u001b[0m \u001b[0m__call__\u001b[0m\u001b[0;34m(\u001b[0m\u001b[0mself\u001b[0m\u001b[0;34m,\u001b[0m \u001b[0mx\u001b[0m\u001b[0;34m)\u001b[0m\u001b[0;34m:\u001b[0m\u001b[0;34m\u001b[0m\u001b[0;34m\u001b[0m\u001b[0m\n",
            "\u001b[0;32m/usr/local/lib/python3.6/dist-packages/branca/colormap.py\u001b[0m in \u001b[0;36mrgba_bytes_tuple\u001b[0;34m(self, x)\u001b[0m\n\u001b[1;32m    112\u001b[0m         \u001b[0mform\u001b[0m \u001b[0mof\u001b[0m \u001b[0ma\u001b[0m \u001b[0mtuple\u001b[0m \u001b[0;34m(\u001b[0m\u001b[0mR\u001b[0m\u001b[0;34m,\u001b[0m\u001b[0mG\u001b[0m\u001b[0;34m,\u001b[0m\u001b[0mB\u001b[0m\u001b[0;34m,\u001b[0m\u001b[0mA\u001b[0m\u001b[0;34m)\u001b[0m \u001b[0;32mwith\u001b[0m \u001b[0mint\u001b[0m \u001b[0mvalues\u001b[0m \u001b[0mbetween\u001b[0m \u001b[0;36m0\u001b[0m \u001b[0;32mand\u001b[0m \u001b[0;36m255.\u001b[0m\u001b[0;34m\u001b[0m\u001b[0;34m\u001b[0m\u001b[0m\n\u001b[1;32m    113\u001b[0m         \"\"\"\n\u001b[0;32m--> 114\u001b[0;31m         \u001b[0;32mreturn\u001b[0m \u001b[0mtuple\u001b[0m\u001b[0;34m(\u001b[0m\u001b[0mint\u001b[0m\u001b[0;34m(\u001b[0m\u001b[0mu\u001b[0m\u001b[0;34m*\u001b[0m\u001b[0;36m255.9999\u001b[0m\u001b[0;34m)\u001b[0m \u001b[0;32mfor\u001b[0m \u001b[0mu\u001b[0m \u001b[0;32min\u001b[0m \u001b[0mself\u001b[0m\u001b[0;34m.\u001b[0m\u001b[0mrgba_floats_tuple\u001b[0m\u001b[0;34m(\u001b[0m\u001b[0mx\u001b[0m\u001b[0;34m)\u001b[0m\u001b[0;34m)\u001b[0m\u001b[0;34m\u001b[0m\u001b[0;34m\u001b[0m\u001b[0m\n\u001b[0m\u001b[1;32m    115\u001b[0m \u001b[0;34m\u001b[0m\u001b[0m\n\u001b[1;32m    116\u001b[0m     \u001b[0;32mdef\u001b[0m \u001b[0mrgb_bytes_tuple\u001b[0m\u001b[0;34m(\u001b[0m\u001b[0mself\u001b[0m\u001b[0;34m,\u001b[0m \u001b[0mx\u001b[0m\u001b[0;34m)\u001b[0m\u001b[0;34m:\u001b[0m\u001b[0;34m\u001b[0m\u001b[0;34m\u001b[0m\u001b[0m\n",
            "\u001b[0;32m/usr/local/lib/python3.6/dist-packages/branca/colormap.py\u001b[0m in \u001b[0;36mrgba_floats_tuple\u001b[0;34m(self, x)\u001b[0m\n\u001b[1;32m    211\u001b[0m             \u001b[0mp\u001b[0m \u001b[0;34m=\u001b[0m \u001b[0;36m1.\u001b[0m\u001b[0;34m\u001b[0m\u001b[0;34m\u001b[0m\u001b[0m\n\u001b[1;32m    212\u001b[0m         \u001b[0;32melse\u001b[0m\u001b[0;34m:\u001b[0m\u001b[0;34m\u001b[0m\u001b[0;34m\u001b[0m\u001b[0m\n\u001b[0;32m--> 213\u001b[0;31m             \u001b[0;32mraise\u001b[0m \u001b[0mValueError\u001b[0m\u001b[0;34m(\u001b[0m\u001b[0;34m'Thresholds are not sorted.'\u001b[0m\u001b[0;34m)\u001b[0m\u001b[0;34m\u001b[0m\u001b[0;34m\u001b[0m\u001b[0m\n\u001b[0m\u001b[1;32m    214\u001b[0m \u001b[0;34m\u001b[0m\u001b[0m\n\u001b[1;32m    215\u001b[0m         return tuple((1.-p) * self.colors[i-1][j] + p*self.colors[i][j] for j\n",
            "\u001b[0;31mValueError\u001b[0m: Thresholds are not sorted."
          ]
        }
      ]
    },
    {
      "cell_type": "code",
      "metadata": {
        "id": "YCAUgO_pZ0oj",
        "colab_type": "code",
        "colab": {}
      },
      "source": [
        "# Create style_dict for the TimeSliderChoropleth (choice of color and opacity)\n",
        "country_list = gdf_commodity1['COUNTRY'].unique().tolist()\n",
        "country_idx = range(len(country_list))\n",
        "\n",
        "style_dict = {}\n",
        "for i in country_idx:\n",
        "    country = country_list[i]\n",
        "    result = gdf_commodity1[gdf_commodity1['COUNTRY'] == country]\n",
        "    # Reorder data by country and date\n",
        "    result = result.sort_values(by=['date'])\n",
        "    # Reset index\n",
        "    result.reset_index(inplace=True,drop=True)\n",
        "\n",
        "    inner_dict = {}\n",
        "    for _, r in result.iterrows():\n",
        "        inner_dict[int(r['date_sec'])] = {'color': r['colour'], 'opacity': 0.7}\n",
        "    style_dict[str(i)] = inner_dict"
      ],
      "execution_count": null,
      "outputs": []
    },
    {
      "cell_type": "markdown",
      "metadata": {
        "id": "yyWOlqpGh1-i",
        "colab_type": "text"
      },
      "source": [
        "# Resources\n",
        "\n",
        "**Tools**  \n",
        "[Folium Bubble Map](https://python-graph-gallery.com/313-bubble-map-with-folium/)  \n",
        "[Individual Choropleth Popups](http://www.mattgoldwasser.com/posts/choroplot/)  \n",
        "[TimeSliderChoropleth Example](https://github.com/python-visualization/folium/blob/master/examples/TimeSliderChoropleth.ipynb)  \n",
        "[Time Series Folium Example](https://geohackweek.github.io/ghw2018_web_portal_inlandwater_co2/InteractiveTimeSeries.html)  \n",
        "\n",
        "\n",
        "**Dataset**  \n",
        "[Annual GDP Growth %](https://data.worldbank.org/indicator/NY.GDP.MKTP.KD.ZG)  \n",
        "bot_with_tariffs_calcs.csv - Paul Sail generated this file based on exports & imports for UK  \n",
        "[countries_lat_lon.csv](https://developers.google.com/public-data/docs/canonical/countries_csv)  \n",
        "\n",
        "\n"
      ]
    },
    {
      "cell_type": "markdown",
      "metadata": {
        "id": "KQQ6ll_s1HK1",
        "colab_type": "text"
      },
      "source": [
        "# Imports & Settings"
      ]
    },
    {
      "cell_type": "code",
      "metadata": {
        "ExecuteTime": {
          "end_time": "2020-01-30T08:07:52.506461Z",
          "start_time": "2020-01-30T08:07:44.687918Z"
        },
        "id": "SOG9oQCEh1-j",
        "colab_type": "code",
        "colab": {}
      },
      "source": [
        "!pip install geopandas\n",
        "!pip install ipyleaflet\n",
        "!pip install beautifulsoup4\n",
        "!pip install geopy\n",
        "!pip install googlemaps\n",
        "!pip install zipcodes\n",
        "!pip install addfips #Finds fips code from county and state name\n",
        "\n",
        "# Import Analysis Libraries\n",
        "import pandas as pd\n",
        "import numpy as np\n",
        "from collections import Counter,defaultdict\n",
        "import os\n",
        "\n",
        "# Other Tools\n",
        "from tqdm import trange,tqdm\n",
        "from geopy.geocoders import Nominatim # find latitude and longitude by county names for folium mapping\n",
        "import googlemaps # Geolocation finder\n",
        "from datetime import datetime\n",
        "import zipcodes\n",
        "import addfips\n",
        "from datetime import datetime\n",
        "import numpy as np\n",
        "import time\n",
        "from collections import OrderedDict\n",
        "\n",
        "# Visualization\n",
        "import ipywidgets as widgets\n",
        "import matplotlib.pyplot as plt\n",
        "import seaborn as sns\n",
        "import matplotlib.font_manager\n",
        "color_palette_list = ['#009ACD', '#ADD8E6', '#63D1F4', '#0EBFE9','#C1F0F6', '#0099CC']\n",
        "import geopandas as gpd\n",
        "from ipyleaflet import Map, GeoData, basemaps, LayersControl\n",
        "%matplotlib inline\n",
        "import folium\n",
        "from folium.plugins import TimeSliderChoropleth\n",
        "\n",
        "# Jupyter Notebook & Pandas Set\n",
        "from IPython.core.display import display, HTML\n",
        "display(HTML(\"<style>.container { width:80% !important; }</style>\"))\n",
        "pd.set_option('display.max_columns',100)\n",
        "\n",
        "# WebScraping\n",
        "import requests\n",
        "from bs4 import BeautifulSoup\n",
        "\n",
        "# ETC\n",
        "import warnings\n",
        "warnings.filterwarnings('ignore')\n",
        "\n",
        "# Set up connectivity with gdrive with colab\n",
        "from google.colab import drive\n",
        "drive.mount('/content/gdrive')"
      ],
      "execution_count": null,
      "outputs": []
    },
    {
      "cell_type": "markdown",
      "metadata": {
        "id": "KYwlAE4UetKO",
        "colab_type": "text"
      },
      "source": [
        "# Functions"
      ]
    },
    {
      "cell_type": "markdown",
      "metadata": {
        "id": "IoJSDZX3ex8u",
        "colab_type": "text"
      },
      "source": [
        "## Folium Functions"
      ]
    },
    {
      "cell_type": "code",
      "metadata": {
        "id": "JWEpLp86etX0",
        "colab_type": "code",
        "colab": {}
      },
      "source": [
        "# help(folium.FeatureGroup)\n",
        "def folium_census(mapobj,gdf,key,color,show=False):\n",
        "  # Prep data\n",
        "  folium_gdf = gdf\n",
        "  folium_gdf.crs = {'init' :'epsg:4326'}\n",
        "  json_folium = folium_gdf.to_crs(epsg='4326').to_json()\n",
        "\n",
        "  folium.Choropleth(\n",
        "  geo_data=json_folium,\n",
        "  name=\"COVID-19 Confirmed Cases Total\",\n",
        "  data=folium_gdf,\n",
        "  columns=['GEOID', key],\n",
        "  key_on='properties.GEOID',\n",
        "  fill_color=color, # All colors : http://colorbrewer2.org/#type=sequential&scheme=BuGn&n=3\n",
        "  fill_opacity=1,\n",
        "  line_opacity=3,\n",
        "  legend_name=key,\n",
        "  show=show\n",
        "  ).add_to(mapobj)\n",
        "\n",
        "  return mapobj\n",
        "\n",
        "def folium_marker(mapobj,popup_msg,icon_color,icon_type,longitude,latitude):\n",
        "  # https://getbootstrap.com/docs/3.3/components/#glyphicons-glyphs for built-in available icon types\n",
        "  folium.Marker(\n",
        "    location=[latitude,longitude],\n",
        "    popup=popup_msg,\n",
        "    icon=folium.Icon(color=icon_color,icon=icon_type)\n",
        "  ).add_to(mapobj)\n",
        "  return mapobj\n",
        "\n",
        "\n",
        "def folium_marker_cluster(mapobj,df,cluster_name,popup_msg,icon_color,icon_type,show=False):\n",
        "\n",
        "  from folium.plugins import MarkerCluster\n",
        "  icon_create_function = \"\"\"\n",
        "      function(cluster) {\n",
        "      var childCount = cluster.getChildCount(); \n",
        "      var c = ' marker-cluster-';\n",
        "\n",
        "      if (childCount < 200) {\n",
        "          c += 'large';\n",
        "      } else if (childCount < 500) {\n",
        "          c += 'medium';\n",
        "      } else {\n",
        "          c += 'small';\n",
        "      }\n",
        "\n",
        "      return new L.DivIcon({ html: '<div><span>' + childCount + '</span></div>', className: 'marker-cluster' + c, iconSize: new L.Point(40, 40) });\n",
        "      }\n",
        "      \"\"\"\n",
        "  mc = MarkerCluster(name=cluster_name,icon_create_function=icon_create_function,show=show)\n",
        "  #mc = MarkerCluster(name=cluster_name,show=False)\n",
        "  mc.add_to(mapobj)\n",
        "\n",
        "  for i in range(len(df)):\n",
        "    mc.add_child(folium.Marker(location = [df['Latitude'].iloc[i],df['Longitude'].iloc[i]],\n",
        "                  popup=popup_msg,\n",
        "                  icon=folium.Icon(color=icon_color,icon=icon_type)\n",
        "                  ))\n",
        "  return mapobj\n",
        "\n",
        "def folium_feature_group(mapobj,df,cluster_name,icon_color,icon_type,show=False):\n",
        "  '''\n",
        "  Below blocked out code lets urls to be included, couldn't get it to work yet.\n",
        "  '''\n",
        "  # def get_frame(url,width,height):\n",
        "  #   html = \"\"\" \n",
        "  #           <!doctype html>\n",
        "  #       <html>\n",
        "  #       <iframe id=\"myIFrame\" width=\"{}\" height=\"{}\" src={}\"\"\".format(width,height,url) + \"\"\" frameborder=\"0\"></iframe>\n",
        "  #       <script type=\"text/javascript\">\n",
        "  #       var resizeIFrame = function(event) {\n",
        "  #           var loc = document.location;\n",
        "  #           if (event.origin != loc.protocol + '//' + loc.host) return;\n",
        "\n",
        "  #           var myIFrame = document.getElementById('myIFrame');\n",
        "  #           if (myIFrame) {\n",
        "  #               myIFrame.style.height = event.data.h + \"px\";\n",
        "  #               myIFrame.style.width  = event.data.w + \"px\";\n",
        "  #           }\n",
        "  #       };\n",
        "  #       if (window.addEventListener) {\n",
        "  #           window.addEventListener(\"message\", resizeIFrame, false);\n",
        "  #       } else if (window.attachEvent) {\n",
        "  #           window.attachEvent(\"onmessage\", resizeIFrame);\n",
        "  #       }\n",
        "  #       </script>\n",
        "  #       </html>\"\"\"\n",
        "  #   return html\n",
        "  #   popup = get_frame('https://stackoverflow.com/questions/29535715/python-with-folium-how-can-i-embed-a-webpage-in-the-popup',\n",
        "  #             500,\n",
        "  #             500)\n",
        "\n",
        "\n",
        "\n",
        "  fg = folium.FeatureGroup(name=cluster_name,show=show)\n",
        "\n",
        "  print(\"Populating Annual GDP Growth graph per country...\")\n",
        "  time.sleep(1)\n",
        "  for i in trange(len(df)):\n",
        "\n",
        "    import base64\n",
        "    import matplotlib.pyplot as plt\n",
        "\n",
        "    resolution, width, height = 75, 15, 4\n",
        "\n",
        "    fig, ax = plt.subplots(figsize=(width, height))\n",
        "    ax.plot( gdp_growth[gdp_growth['COUNTRY']==df['country'].iloc[i]]['year'], gdp_growth[gdp_growth['COUNTRY']==df['country'].iloc[i]]['value'])\n",
        "    plt.xticks(rotation=80)\n",
        "    plt.ylabel('GDP Growth %')\n",
        "    ax.set_title(df['country'].iloc[i])\n",
        "    plt.close(fig)\n",
        "    png = 'viz.png'\n",
        "\n",
        "    fig.savefig(png, dpi=resolution)\n",
        "\n",
        "    encoded = base64.b64encode(open(png, 'rb').read())\n",
        "\n",
        "    from folium import IFrame\n",
        "\n",
        "    html = '<img src=\"data:image/png;base64,{}\">'.format\n",
        "    iframe = IFrame(html(encoded.decode('UTF-8')), width=(width*resolution)+20, height=(height*resolution)+20)\n",
        "    popup = folium.Popup(iframe, max_width=2650)\n",
        "\n",
        "\n",
        "\n",
        "    fg.add_child(folium.Marker(location = [df['latitude'].iloc[i],df['longitude'].iloc[i]],\n",
        "                  popup=popup,\n",
        "                  icon=folium.Icon(color=icon_color,icon=icon_type)\n",
        "                  ))\n",
        "    \n",
        "  fg.add_to(mapobj)\n",
        "  return mapobj\n",
        "\n"
      ],
      "execution_count": 2,
      "outputs": []
    },
    {
      "cell_type": "markdown",
      "metadata": {
        "id": "l3xYf3ZV1CvE",
        "colab_type": "text"
      },
      "source": [
        "# Prepare Dataset"
      ]
    },
    {
      "cell_type": "markdown",
      "metadata": {
        "id": "SLWldYlgQIHv",
        "colab_type": "text"
      },
      "source": [
        "### UK Imports Data"
      ]
    },
    {
      "cell_type": "code",
      "metadata": {
        "id": "wpiVkeGD_yKz",
        "colab_type": "code",
        "colab": {
          "base_uri": "https://localhost:8080/",
          "height": 50
        },
        "outputId": "f245f014-5760-4f08-b911-ef4dffb036be"
      },
      "source": [
        "print(\"Importing balance of trade Data...\")\n",
        "\n",
        "uk_bot = pd.read_csv('gdrive/My Drive/PA Consulting/DIT EU Support/bot_with_tariffs_calcs_updated.csv') \n",
        "\n",
        "# Create a new column with country abbreviations removed. ex) \"AE United Arab Emirates\" -> \"United Arab Emirates\" to merge it with shapefiles\n",
        "uk_bot['COUNTRY'] = uk_bot['COUNTRY'].apply( lambda x :  ' '.join(x.split()[1:]) )\n",
        "\n",
        "print(\"Done\")"
      ],
      "execution_count": 3,
      "outputs": [
        {
          "output_type": "stream",
          "text": [
            "Importing balance of trade Data...\n",
            "Done\n"
          ],
          "name": "stdout"
        }
      ]
    },
    {
      "cell_type": "code",
      "metadata": {
        "id": "8Qo2JneFD1FV",
        "colab_type": "code",
        "colab": {}
      },
      "source": [
        "# Rename some countries' name to be able to merge with shapefiles\n",
        "\n",
        "uk_bot = uk_bot.replace({'COUNTRY' : \n",
        "                      dict.fromkeys(['Hong Kong', \n",
        "                                     'Macau'], \n",
        "                                     'China')})\n",
        "\n",
        "uk_bot = uk_bot.replace({'COUNTRY' : \n",
        "                      dict.fromkeys(['Vatican City'], \n",
        "                                     'Italy')})\n"
      ],
      "execution_count": 4,
      "outputs": []
    },
    {
      "cell_type": "markdown",
      "metadata": {
        "id": "dRWcLJItGObX",
        "colab_type": "text"
      },
      "source": [
        "### Import lon & lat data for each country for markers"
      ]
    },
    {
      "cell_type": "code",
      "metadata": {
        "id": "NCTXzDzGGN_q",
        "colab_type": "code",
        "colab": {}
      },
      "source": [
        "country_markers = pd.read_csv('gdrive/My Drive/PA Consulting/DIT EU Support/countries_lat_lon.csv', encoding = \"ISO-8859-1\") \n",
        "country_markers = country_markers[country_markers['country']!='U.S. Minor Outlying Islands']"
      ],
      "execution_count": 5,
      "outputs": []
    },
    {
      "cell_type": "markdown",
      "metadata": {
        "id": "9yngFR7HoN4d",
        "colab_type": "text"
      },
      "source": [
        "### Annual GDP Growth % data for marker's popup messages"
      ]
    },
    {
      "cell_type": "code",
      "metadata": {
        "id": "g7udMSEroNPs",
        "colab_type": "code",
        "colab": {}
      },
      "source": [
        "gdp_growth = pd.read_csv('gdrive/My Drive/PA Consulting/DIT EU Support/gdp_annual_percentage.csv',skiprows=4)  #https://data.worldbank.org/indicator/NY.GDP.MKTP.KD.ZG\n",
        "gdp_growth = gdp_growth.rename(columns={'Country Name': 'COUNTRY'})\n",
        "gdp_growth.drop(columns=['Country Code', 'Indicator Name', 'Indicator Code','Unnamed: 64'],inplace=True)\n",
        "\n",
        "# Stretch out the data\n",
        "gdp_growth = gdp_growth.melt(id_vars=['COUNTRY'], var_name='year')\n",
        "\n",
        "# Drop na and re order data by country and year\n",
        "gdp_growth.dropna(inplace=True)\n",
        "gdp_growth = gdp_growth.sort_values(by=['COUNTRY','year'])"
      ],
      "execution_count": 6,
      "outputs": []
    },
    {
      "cell_type": "markdown",
      "metadata": {
        "id": "3yJYE3crQVDB",
        "colab_type": "text"
      },
      "source": [
        "### Country Shape Files"
      ]
    },
    {
      "cell_type": "code",
      "metadata": {
        "id": "DsOBtmY0V4Sg",
        "colab_type": "code",
        "colab": {
          "base_uri": "https://localhost:8080/",
          "height": 50
        },
        "outputId": "513c3aab-3f81-4ea8-bc1b-1f2bbe3fe2f4"
      },
      "source": [
        "print(\"Loading country shape files for Folium...\")\n",
        "gdf_countries = gpd.GeoDataFrame.from_file('gdrive/My Drive/shapefiles/world countries/99bfd9e7-bb42-4728-87b5-07f8c8ac631c2020328-1-1vef4ev.lu5nk.shp') #https://www2.census.gov/geo/tiger/GENZ2018/shp/cb_2018_us_county_500k.zip <- All Counties in US\n",
        "gdf_countries = gdf_countries.rename(columns={'CNTRY_NAME': 'COUNTRY'})\n",
        "gdf_countries.drop(columns=['OBJECTID'],inplace=True)\n",
        "print(\"Done\")"
      ],
      "execution_count": 7,
      "outputs": [
        {
          "output_type": "stream",
          "text": [
            "Loading country shape files for Folium...\n",
            "Done\n"
          ],
          "name": "stdout"
        }
      ]
    },
    {
      "cell_type": "markdown",
      "metadata": {
        "id": "f699jkGi39TE",
        "colab_type": "text"
      },
      "source": [
        "### Data Inspection"
      ]
    },
    {
      "cell_type": "code",
      "metadata": {
        "id": "tehY1OIH358D",
        "colab_type": "code",
        "colab": {}
      },
      "source": [
        "# Not all countries in import & export files exist in shape files, so those won't be displayed on Folium\n",
        "countries_in_shape_files = []\n",
        "countries_not_in_shape_files = []\n",
        "\n",
        "for country in list(set(uk_bot['COUNTRY'])):\n",
        "  if country not in list(set(uk_bot['COUNTRY']) & set(gdf_countries['COUNTRY'])):\n",
        "    countries_not_in_shape_files.append(country)\n",
        "  else:\n",
        "    countries_in_shape_files.append(country)\n",
        "countries_not_in_shape_files = sorted(countries_not_in_shape_files)\n",
        "countries_in_shape_files = sorted(countries_in_shape_files)\n"
      ],
      "execution_count": 8,
      "outputs": []
    },
    {
      "cell_type": "code",
      "metadata": {
        "id": "j3uZfE-U5w0O",
        "colab_type": "code",
        "colab": {}
      },
      "source": [
        "# Unique commodities\n",
        "commodities = list(uk_bot['COMMODITY'].unique())"
      ],
      "execution_count": 9,
      "outputs": []
    },
    {
      "cell_type": "markdown",
      "metadata": {
        "id": "_mZooQx9fnJ8",
        "colab_type": "text"
      },
      "source": [
        "### Merge data with shape files"
      ]
    },
    {
      "cell_type": "code",
      "metadata": {
        "id": "aMPC6kIn5759",
        "colab_type": "code",
        "colab": {
          "base_uri": "https://localhost:8080/",
          "height": 50
        },
        "outputId": "45c761db-6d61-48a3-e857-66faf3cca099"
      },
      "source": [
        "print(\"Merging all data...\")\n",
        "\n",
        "gdf_commodity1 = uk_bot_commodity1.merge(gdf_countries, left_on='COUNTRY',right_on='COUNTRY')\n",
        "\n",
        "print(\"Done\")"
      ],
      "execution_count": null,
      "outputs": [
        {
          "output_type": "stream",
          "text": [
            "Merging all data...\n",
            "Done\n"
          ],
          "name": "stdout"
        }
      ]
    },
    {
      "cell_type": "code",
      "metadata": {
        "id": "cMrkDTk2Z0wm",
        "colab_type": "code",
        "colab": {}
      },
      "source": [
        "# Create geopandas dataframe\n",
        "countries_df = gdf_commodity1[['geometry']]\n",
        "countries_gdf = gpd.GeoDataFrame(countries_df)\n",
        "countries_gdf = countries_gdf.drop_duplicates().reset_index()"
      ],
      "execution_count": 13,
      "outputs": []
    },
    {
      "cell_type": "markdown",
      "metadata": {
        "id": "lJ7Aw2wDG2bF",
        "colab_type": "text"
      },
      "source": [
        "### Function to select subset of data by commodity and prepare data for TimeSliderChoropleth"
      ]
    },
    {
      "cell_type": "code",
      "metadata": {
        "id": "MpcgwXZ7G12f",
        "colab_type": "code",
        "colab": {}
      },
      "source": [
        "def timesliderchoropleth_oneshot(commodity):\n",
        "  uk_imports_commodity1 = uk_bot[uk_bot['COMMODITY'] == commodity]\n",
        "\n",
        "  # Drop unneeded columns\n",
        "  uk_imports_commodity1.drop(columns=['DIRECTION','commodity_key'],inplace=True)\n",
        "\n",
        "  # Stretch out the data\n",
        "  uk_imports_commodity1 = uk_imports_commodity1.melt(id_vars=['COMMODITY', 'COUNTRY'], var_name='date')\n",
        "\n",
        "  # Reformat date to actual datetime\n",
        "  uk_imports_commodity1['date'] = uk_imports_commodity1['date'].apply(lambda x:datetime.strptime(x.split('_')[0],'%Y%b'))\n",
        "  uk_imports_commodity1['date_sec'] = uk_imports_commodity1['date'].astype(int) / 10**9\n",
        "  uk_imports_commodity1['date_sec'] = uk_imports_commodity1['date_sec'].astype(int).astype(str)\n",
        "\n",
        "  # Reorder data by country and date\n",
        "  uk_imports_commodity1 = uk_imports_commodity1.sort_values(by=['COUNTRY','date'])\n",
        "\n",
        "  # Reset index\n",
        "  uk_imports_commodity1.reset_index(inplace=True,drop=True)\n",
        "\n",
        "  gdf_commodity1 = uk_imports_commodity1.merge(gdf_countries, left_on='COUNTRY',right_on='COUNTRY')\n",
        "\n",
        "  import branca.colormap as cm\n",
        "\n",
        "\n",
        "  gdf_commodity1.loc[gdf_commodity1['date']=='1998-01-01','value'] = 0\n",
        "  gdf_commodity1.dropna(inplace=True)\n",
        "\n",
        "  max_colour = max(gdf_commodity1['value'])\n",
        "  min_colour = min(gdf_commodity1['value'])\n",
        "  #cmap = cm.linear.YlOrRd_09.scale(min_colour, max_colour)\n",
        "  #cmap = cm.linear.Reds_09.scale(min_colour, max_colour)\n",
        "  cmap = cm.LinearColormap( colors=['red','green'], vmin=min_colour,vmax=max_colour)\n",
        "  gdf_commodity1['colour'] = gdf_commodity1['value'].map(cmap)\n",
        "\n",
        "  # Create style_dict for the TimeSliderChoropleth (choice of color and opacity)\n",
        "  country_list = gdf_commodity1['COUNTRY'].unique().tolist()\n",
        "  country_idx = range(len(country_list))\n",
        "\n",
        "  style_dict = OrderedDict()\n",
        "  for i in country_idx:\n",
        "      country = country_list[i]\n",
        "      result = gdf_commodity1[gdf_commodity1['COUNTRY'] == country]\n",
        "\n",
        "      # Reorder data by country and date\n",
        "      result = result.sort_values(by=['date'])\n",
        "      # Reset index\n",
        "      result.reset_index(inplace=True,drop=True)\n",
        "\n",
        "      inner_dict = {}\n",
        "      for _, r in result.iterrows():\n",
        "        if r['value']==0:\n",
        "          inner_dict[int(r['date_sec'])] = {'color': r['colour'], 'opacity': 0}\n",
        "        else:\n",
        "          inner_dict[int(r['date_sec'])] = {'color': r['colour'], 'opacity': 0.4}\n",
        "      style_dict[str(i)] = inner_dict\n",
        "\n",
        "  for key in style_dict.keys():\n",
        "    style_dict[key][883612800]['opacity'] = 0\n",
        "\n",
        "  # Create geopandas dataframe\n",
        "  countries_df = gdf_commodity1[['geometry']]\n",
        "  countries_gdf = gpd.GeoDataFrame(countries_df)\n",
        "  countries_gdf = countries_gdf.drop_duplicates().reset_index()\n",
        "  return countries_gdf,style_dict,cmap"
      ],
      "execution_count": 18,
      "outputs": []
    },
    {
      "cell_type": "markdown",
      "metadata": {
        "id": "jIzAjWsOh1_t",
        "colab_type": "text"
      },
      "source": [
        "# Folium"
      ]
    },
    {
      "cell_type": "markdown",
      "metadata": {
        "id": "vhHQvxNXfHp-",
        "colab_type": "text"
      },
      "source": [
        "### Marker popup GDP growth"
      ]
    },
    {
      "cell_type": "code",
      "metadata": {
        "id": "_r7KFugjOmDh",
        "colab_type": "code",
        "colab": {}
      },
      "source": [
        "# Initiate map\n",
        "m = folium.Map(min_zoom=2, max_bounds=True,tiles='cartodbpositron')\n",
        "\n",
        "# Add commodities timesliderchoropleth\n",
        "print(\"Generating commodities timesliderchoropleth for all countries...\")\n",
        "time.sleep(1)\n",
        "\n",
        "commodities_list = ['0 Food & live animals','3 Fuels','5 Chemicals']\n",
        "for i in trange(len(commodities_list)):\n",
        "  countries_gdf,style_dict,cmap =  timesliderchoropleth_oneshot(commodities_list[i])\n",
        "  g = TimeSliderChoropleth(    \n",
        "      data=countries_gdf.to_json(),\n",
        "      styledict=style_dict,name='Balance of Trade : ' + ' '.join(commodities_list[i].split()[1:]),\n",
        "      overlay=True,\n",
        "      control=True,\n",
        "      show=True).add_to(m)\n",
        "  cmap.caption = 'Balance of Trade : ' + ' '.join(commodities_list[i].split()[1:]) + ' in £ (mil)'\n",
        "  cmap.add_to(m)\n",
        "\n",
        "# Create markers for each country with annual gdp growth % graph\n",
        "m = folium_feature_group(mapobj=m,\n",
        "                          df=country_markers,\n",
        "                          cluster_name='Annual GDP Growth %',\n",
        "                          icon_color='black',\n",
        "                          icon_type='info-sign',\n",
        "                          show=False)\n",
        "\n",
        "folium.LayerControl().add_to(m)\n",
        "\n",
        "m.save(outfile='gdrive/My Drive/PA Consulting/DIT EU Support/DIT demo v1.html')\n",
        "m"
      ],
      "execution_count": null,
      "outputs": []
    },
    {
      "cell_type": "code",
      "metadata": {
        "id": "JhCBv0UPMVey",
        "colab_type": "code",
        "colab": {}
      },
      "source": [
        "rest_of_commodities = ['00 Live animals',\n",
        " '01 Meat & meat preparations',\n",
        " '02 Dairy products & eggs',\n",
        " '03 Fish & shellfish',\n",
        " '04 Cereals',\n",
        " '05 Vegetables & fruit',\n",
        " '06 Sugar',\n",
        " '07 Coffee, tea, cocoa etc',\n",
        " '08 Animal feeding stuffs',\n",
        " '09 Miscellaneous foods',\n",
        " '32 Coal, coke & briquettes',\n",
        " '33 Oil',\n",
        " '33O Crude oil',\n",
        " '33R Refined oil',\n",
        " '34 Gas',\n",
        " '35 Electricity',\n",
        " '3OF Fuels other than oil',\n",
        " '51 Organic chemicals',\n",
        " '52 Inorganic chemicals',\n",
        " '53 Dyeing, tanning & colouring materials',\n",
        " '54 Medicinal & pharmaceutical products',\n",
        " '55 Toilet & cleansing preparations',\n",
        " '56 Processed fertilisers',\n",
        " '57 Plastics in primary forms',\n",
        " '58 Plastics in non-primary forms',\n",
        " '59 Other chemicals']"
      ],
      "execution_count": 21,
      "outputs": []
    },
    {
      "cell_type": "code",
      "metadata": {
        "id": "TzEOikOEMg5e",
        "colab_type": "code",
        "colab": {
          "base_uri": "https://localhost:8080/",
          "height": 118
        },
        "outputId": "0402e77e-ca87-4b7e-9c99-4f9d7f0b96a4"
      },
      "source": [
        "for k in range(9):\n",
        "  \n",
        "\n",
        "  # Initiate map\n",
        "  m = folium.Map(min_zoom=2, max_bounds=True,tiles='cartodbpositron')\n",
        "\n",
        "  # Add commodities timesliderchoropleth\n",
        "  print(\"Generating commodities timesliderchoropleth for all countries...\")\n",
        "  time.sleep(1)\n",
        "\n",
        "  commodities_list = rest_of_commodities[k*3:k*3+3]\n",
        "  for i in trange(len(commodities_list)):\n",
        "    countries_gdf,style_dict,cmap =  timesliderchoropleth_oneshot(commodities_list[i])\n",
        "    g = TimeSliderChoropleth(    \n",
        "        data=countries_gdf.to_json(),\n",
        "        styledict=style_dict,name='Balance of Trade : ' + ' '.join(commodities_list[i].split()[1:]),\n",
        "        overlay=True,\n",
        "        control=True,\n",
        "        show=True).add_to(m)\n",
        "    cmap.caption = 'Balance of Trade : ' + ' '.join(commodities_list[i].split()[1:]) + ' in £ (mil)'\n",
        "    cmap.add_to(m)\n",
        "\n",
        "  # Create markers for each country with annual gdp growth % graph\n",
        "  m = folium_feature_group(mapobj=m,\n",
        "                            df=country_markers,\n",
        "                            cluster_name='Annual GDP Growth %',\n",
        "                            icon_color='black',\n",
        "                            icon_type='info-sign',\n",
        "                            show=False)\n",
        "\n",
        "  folium.LayerControl().add_to(m)\n",
        "\n",
        "  m.save(outfile='gdrive/My Drive/PA Consulting/DIT EU Support/DIT demo v{}.html'.format(k))\n",
        "  m"
      ],
      "execution_count": null,
      "outputs": [
        {
          "output_type": "stream",
          "text": [
            "Generating commodities timesliderchoropleth for all countries...\n"
          ],
          "name": "stdout"
        },
        {
          "output_type": "stream",
          "text": [
            "100%|██████████| 3/3 [02:08<00:00, 42.70s/it]\n"
          ],
          "name": "stderr"
        },
        {
          "output_type": "stream",
          "text": [
            "Populating Annual GDP Growth graph per country...\n"
          ],
          "name": "stdout"
        },
        {
          "output_type": "stream",
          "text": [
            "100%|██████████| 244/244 [00:48<00:00,  5.01it/s]\n"
          ],
          "name": "stderr"
        },
        {
          "output_type": "stream",
          "text": [
            "Generating commodities timesliderchoropleth for all countries...\n"
          ],
          "name": "stdout"
        },
        {
          "output_type": "stream",
          "text": [
            " 67%|██████▋   | 2/3 [01:23<00:42, 42.06s/it]"
          ],
          "name": "stderr"
        }
      ]
    },
    {
      "cell_type": "code",
      "metadata": {
        "id": "nnaHcF_vpfPv",
        "colab_type": "code",
        "colab": {}
      },
      "source": [
        ""
      ],
      "execution_count": null,
      "outputs": []
    }
  ]
}